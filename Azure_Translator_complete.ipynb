{
  "cells": [
    {
      "cell_type": "code",
      "execution_count": 2,
      "metadata": {
        "collapsed": false,
        "gather": {
          "logged": 1732088436148
        },
        "jupyter": {
          "outputs_hidden": false,
          "source_hidden": false
        },
        "nteract": {
          "transient": {
            "deleting": false
          }
        },
        "tags": []
      },
      "outputs": [],
      "source": [
        "import requests, uuid, json\n",
        "import pandas as pd\n",
        "import numpy as np\n",
        "import os"
      ]
    },
    {
      "cell_type": "code",
      "execution_count": 4,
      "metadata": {
        "collapsed": false,
        "gather": {
          "logged": 1732088495350
        },
        "jupyter": {
          "outputs_hidden": false,
          "source_hidden": false
        },
        "nteract": {
          "transient": {
            "deleting": false
          }
        },
        "tags": []
      },
      "outputs": [],
      "source": [
        "input_path = \"./\"\n",
        "out_file = input_path.rsplit(\".\", 1)[0]\n",
        "# df = pd.read_excel(input_path)"
      ]
    },
    {
      "cell_type": "code",
      "execution_count": 14,
      "metadata": {
        "collapsed": false,
        "gather": {
          "logged": 1732088496112
        },
        "jupyter": {
          "outputs_hidden": false,
          "source_hidden": false
        },
        "nteract": {
          "transient": {
            "deleting": false
          }
        },
        "tags": []
      },
      "outputs": [
        {
          "data": {
            "text/plain": [
              "(14, 34)"
            ]
          },
          "execution_count": 14,
          "metadata": {},
          "output_type": "execute_result"
        }
      ],
      "source": [
        "# df =df.head(2000)\n",
        "df.shape"
      ]
    },
    {
      "cell_type": "code",
      "execution_count": 15,
      "metadata": {
        "collapsed": false,
        "gather": {
          "logged": 1732088496250
        },
        "jupyter": {
          "outputs_hidden": false,
          "source_hidden": false
        },
        "nteract": {
          "transient": {
            "deleting": false
          }
        },
        "tags": []
      },
      "outputs": [
        {
          "data": {
            "text/plain": [
              "Index(['review_id', 'Date_of_Review', 'rcid', 'company_name', 'company_raw',\n",
              "       'naics_code', 'Job_Title', 'job_category', 'role_k50', 'role_k150',\n",
              "       'role_k300', 'role_k1500', 'Job_Location', 'region', 'country', 'state',\n",
              "       'metro_area', 'review_count_helpful', 'review_count_unhelpful',\n",
              "       'Review_Rating', 'rating_compensation_and_benefits',\n",
              "       'rating_culture_and_values', 'rating_senior_leadership',\n",
              "       'rating_work_life_balance', 'rating_job_security_and_advancement',\n",
              "       'reviewer_job_starting_year', 'reviewer_job_ending_year',\n",
              "       'reviewer_length_of_employment', 'Review_Title', 'Review_Text',\n",
              "       'Pro_Review', 'Con_Review', 'ultimate_parent_rcid',\n",
              "       'ultimate_parent_company_name'],\n",
              "      dtype='object')"
            ]
          },
          "execution_count": 15,
          "metadata": {},
          "output_type": "execute_result"
        }
      ],
      "source": [
        "df.columns"
      ]
    },
    {
      "cell_type": "code",
      "execution_count": 5,
      "metadata": {
        "gather": {
          "logged": 1732088496370
        },
        "tags": []
      },
      "outputs": [],
      "source": [
        "# Add your key and endpoint\n",
        "key = \"BaWav7Hkut2jFgteFvIjTX93U7n60nbj4ldOeDvUP3UDjbTzT3I6JQQJ99AKACYeBjFXJ3w3AAAbACOGroh8\"\n",
        "endpoint = \"https://api.cognitive.microsofttranslator.com\"\n",
        "\n",
        "# location, also known as region.\n",
        "# required if you're using a multi-service or regional (not global) resource. It can be found in the Azure portal on the Keys and Endpoint page.\n",
        "location = \"eastus\"\n",
        "\n",
        "string_path = '/translate'\n",
        "constructed_url = endpoint + string_path\n",
        "\n",
        "\n",
        "\n",
        "def translate_text(text):\n",
        "    if text is np.nan:\n",
        "        return \"\"\n",
        "        \n",
        "    params = {\n",
        "        'api-version': '3.0',\n",
        "        'to': ['en']  # Translate to English\n",
        "    }\n",
        "\n",
        "    headers = {\n",
        "        'Ocp-Apim-Subscription-Key': key,\n",
        "        'Ocp-Apim-Subscription-Region': location,\n",
        "        'Content-type': 'application/json',\n",
        "        'X-ClientTraceId': str(uuid.uuid4())\n",
        "    }\n",
        "\n",
        "    # Create the body with the text to translate\n",
        "    body = [{'text': text}]\n",
        "\n",
        "    # Make the request to the Translator API\n",
        "    request = requests.post(constructed_url, params=params, headers=headers, json=body)\n",
        "    response = request.json()\n",
        "\n",
        "    # Extract the translated text\n",
        "    try:\n",
        "        translated_text = response[0]['translations'][0]['text']\n",
        "    except (IndexError, KeyError):\n",
        "        translated_text = None  # Handle errors gracefully\n",
        "\n",
        "    return translated_text"
      ]
    },
    {
      "cell_type": "code",
      "execution_count": 17,
      "metadata": {
        "collapsed": false,
        "jupyter": {
          "outputs_hidden": false,
          "source_hidden": false
        },
        "nteract": {
          "transient": {
            "deleting": false
          }
        },
        "tags": []
      },
      "outputs": [],
      "source": [
        "df['Translated'] = df['Sentence'].apply(translate_text)\n",
        "df['Review_Title'] = df.apply(lambda row: translate_text(row['Review_Title']), axis=1)"
      ]
    },
    {
      "cell_type": "code",
      "execution_count": 18,
      "metadata": {
        "tags": []
      },
      "outputs": [],
      "source": [
        "df['Review_Title'] = df.apply(lambda row: translate_text(row['Review_Title']), axis=1)\n",
        "df['Review_Text'] = df.apply(lambda row: translate_text(row['Review_Text']), axis=1)\n",
        "df['Pro_Review'] = df.apply(lambda row: translate_text(row['Pro_Review']), axis=1)\n",
        "df['Con_Review'] = df.apply(lambda row: translate_text(row['Con_Review']), axis=1)"
      ]
    },
    {
      "cell_type": "code",
      "execution_count": 13,
      "metadata": {
        "collapsed": false,
        "gather": {
          "logged": 1732088721091
        },
        "jupyter": {
          "outputs_hidden": false,
          "source_hidden": false
        },
        "nteract": {
          "transient": {
            "deleting": false
          }
        }
      },
      "outputs": [
        {
          "name": "stderr",
          "output_type": "stream",
          "text": [
            "/tmp/ipykernel_29232/3422415031.py:2: SettingWithCopyWarning: \n",
            "A value is trying to be set on a copy of a slice from a DataFrame.\n",
            "Try using .loc[row_indexer,col_indexer] = value instead\n",
            "\n",
            "See the caveats in the documentation: https://pandas.pydata.org/pandas-docs/stable/user_guide/indexing.html#returning-a-view-versus-a-copy\n",
            "  df['Concat'] = df.apply(lambda row: translate_text(row['Concat']) if row['english'] == \"no\" else row['Concat'], axis=1)\n"
          ]
        }
      ],
      "source": [
        "df['Review_Title'] = df.apply(lambda row: translate_text(row['Review_Title']) if row['english'] == \"no\" else row['Review_Title'], axis=1)\n",
        "df['Review_Text'] = df.apply(lambda row: translate_text(row['Review_Text']) if row['english'] == \"no\" else row['Review_Text'], axis=1)\n",
        "df['Pro_Review'] = df.apply(lambda row: translate_text(row['Pro_Review']) if row['english'] == \"no\" else row['Sentence'], axis=1)\n",
        "df['Con_Review'] = df.apply(lambda row: translate_text(row['Con_Review']) if row['english'] == \"no\" else row['Con_Review'], axis=1)"
      ]
    },
    {
      "cell_type": "code",
      "execution_count": 19,
      "metadata": {
        "collapsed": false,
        "gather": {
          "logged": 1732091151627
        },
        "jupyter": {
          "outputs_hidden": false,
          "source_hidden": false
        },
        "nteract": {
          "transient": {
            "deleting": false
          }
        },
        "tags": []
      },
      "outputs": [],
      "source": [
        "with pd.ExcelWriter(out_file + '.xlsx', engine='xlsxwriter') as writer:\n",
        "    df.to_excel(writer, sheet_name='Translated', index=False)"
      ]
    },
    {
      "cell_type": "code",
      "execution_count": 9,
      "metadata": {
        "collapsed": false,
        "jupyter": {
          "outputs_hidden": false,
          "source_hidden": false
        },
        "nteract": {
          "transient": {
            "deleting": false
          }
        }
      },
      "outputs": [],
      "source": [
        "# Add your key and endpoint\n",
        "key = \"BaWav7Hkut2jFgteFvIjTX93U7n60nbj4ldOeDvUP3UDjbTzT3I6JQQJ99AKACYeBjFXJ3w3AAAbACOGroh8\"\n",
        "endpoint = \"https://api.cognitive.microsofttranslator.com\"\n",
        "\n",
        "# location, also known as region.\n",
        "# required if you're using a multi-service or regional (not global) resource. It can be found in the Azure portal on the Keys and Endpoint page.\n",
        "location = \"eastus\"\n",
        "\n",
        "string_path = '/translate'\n",
        "constructed_url = endpoint + string_path\n",
        "\n",
        "def translate_text_response(text):\n",
        "    if text is np.nan:\n",
        "        return \"\"\n",
        "        \n",
        "    params = {\n",
        "        'api-version': '3.0',\n",
        "        'to': ['en'],  # Translate to English\n",
        "        'includeSentenceLength': True\n",
        "    }\n",
        "\n",
        "    headers = {\n",
        "        'Ocp-Apim-Subscription-Key': key,\n",
        "        'Ocp-Apim-Subscription-Region': location,\n",
        "        'Content-type': 'application/json',\n",
        "        'X-ClientTraceId': str(uuid.uuid4())\n",
        "    }\n",
        "\n",
        "    # Create the body with the text to translate\n",
        "    body = [{'text': text}]\n",
        "\n",
        "    # Make the request to the Translator API\n",
        "    request = requests.post(constructed_url, params=params, headers=headers, json=body)\n",
        "    response = request.json()\n",
        "\n",
        "    return response"
      ]
    },
    {
      "cell_type": "code",
      "execution_count": 14,
      "metadata": {},
      "outputs": [
        {
          "name": "stdout",
          "output_type": "stream",
          "text": [
            "<built-in method items of dict object at 0x7f82561ba840>\n"
          ]
        }
      ],
      "source": [
        "response = translate_text_response(\"Baker&Spice是上海Wagas（沃歌斯，后文为方便起见均用该名称代指Baker&Spice）旗下的餐厅。沃歌斯青岛首家餐厅位于万象城LG层中门外侧，意外不是很起眼的位置，在猪头肉印象里这家餐厅也相对比较低调，一直不温不火。正如其名，该餐厅的主营的糕点和意面披萨等简餐都有非常不错的水准。近期经常来沃歌斯，所以就做一下较深度点评。\\\\n\\\\n 沃歌斯的装修陈设简洁明亮，偏向北欧范儿。而没做吊顶的裸顶和垂下来的白炽灯又带着一丝工业风。高端文艺范的环境已经成功拉升了餐厅的格调。\\\\n 在沃歌斯点过两次沙拉，一次凯撒沙拉一次鸡肉芒果沙拉。虽然猪头肉并不喜欢吃生菜多的沙拉，不过沃歌斯的沙拉味道确实非常不错。凯撒沙拉是经典名菜了。沃歌斯的凯撒沙拉默认是不加鸡肉，加鸡肉需要加18元。猪头肉就后悔当时没有加钱加鸡肉。简版的凯撒沙拉是鹌鹑蛋、肉脯碎配蔬菜，上面撒着类似面包糠的碎屑。沃歌斯的沙拉首先胜在食材质量，鹌鹑蛋和生菜不说，肉脯碎的味道就很正，大有双鱼牌的赶脚。另外凯撒沙拉的的酱汁也非常地道。鸡肉芒果沙拉是这里沙拉类的销售冠军。鸡肉烤的火候适中，肉质紧实。芒果切的非常大块，吃到确实很爽。以牛油果为首的各类蔬果配菜也非常丰富。特制的酸甜味酱汁配奶油的味道清新独特，非常开胃。\\\\n\\\\n 意面半两尝过三款，各有特色，总体感觉都非常不错。细面配三文鱼通过烹制过程中加入少量奶油很好的烘托了三文鱼浓郁的味道。而选择在食用过程中挤一点柠檬汁则可以中和油腻感和厚重感，增加一丝清新。白葡萄酒海鲜意面是意面类的销售冠军，辅料是虾仁、比管、花蛤还有一点圣女果干和西芹。这款意面比其他意面都要少油，相对的却可以明显的尝出白葡萄酒的清香，而圣女果干沉淀的酸甜和西芹的水嫩很好的配合了白葡萄酒的香味。使用的海鲜鲜度也非常高，虾仁出自本地鲜活的海捕虾。可以明显尝得出来整道意面并没有使用提鲜的调味料，鲜度完全来自于以海虾为首的海鲜。绿酱鸡肉意面使用的罗勒酱味道非常纯正，单是罗勒酱就很赞了。配上奶油口感浓醇爽滑，搭配的空心粉和鸡肉也超合拍。这道意面强力推荐。\\\\n\\\\n 沃歌斯还有几款东南亚风的咖喱饭，猪头肉点过其中一款泰式辣味牛肉。这款咖喱是由牛肉、泡发海菜、菜椒和腰果烹制的。牛肉选用的是类似里脊牛腩的部位，肉质很嫩又有嚼劲。咖喱的香辛料绘制出的鲜辣味道很过瘾，而海菜的谷氨酸做了出色的点缀。咖喱的汤汁比较浓稠，配菜的长粒香米质量也很好。配在一起整道菜的体验还是很不错的。\\\\n\\\\n 披萨试过两款，意式海鲜披萨和火腿蘑菇披萨。沃歌斯的披萨都是薄饼底。可能是在面团里放了小苏打，披萨的饼底非常蓬松酥脆。披萨的芝士也是超级多，味道也很正，跟特制的薄饼底正是绝配。意式海鲜披萨使用的海鲜与海鲜意面相同，也是突出了以海虾为首的海鲜带来的鲜味。而火腿蘑菇披萨则以口菇特有的鲜味很好的衬托了优质火腿的肉香。这两款披萨都非常推荐。\\\\n\\\\n 沃歌斯的甜品品质也非常不错。树莓巧克力挞的酱汁酸味很重，是纯正的树莓果酱。芒果杏仁芝士蛋糕的芒果切得也很大块，中间夹的应该是奶油和芝士混合的酱，饼底的杏仁蛋糕味道很正。胡萝卜蛋糕的酱类似卡仕达酱，但很甜，就像混合了蜂蜜或者炼乳，口感非常醇厚。胡萝卜蛋糕的饼底口感也是醇厚到类似粗粮蛋糕或是枣糕的感觉，里面有胡萝卜和山核桃，也是非常不错。\\\\n\\\\n 沃歌斯的简餐和甜品水平都比较高，在同等价位里算是制作非常精致味道比较考究的了。面包没尝过，不妄作评断。目前不是很火爆，所以环境还是很好的。缺点是临街店内会有飞虫。另外猪头肉爆料一下，楼上CGV影院的会员卡在这里除了饮品之外都可享七五折，在万象城性价比还是蛮高的。\")\n",
        "print(response[0]['translations'][0]['sentLen'].items)"
      ]
    },
    {
      "cell_type": "code",
      "execution_count": 17,
      "metadata": {},
      "outputs": [
        {
          "name": "stdout",
          "output_type": "stream",
          "text": [
            "53\n"
          ]
        }
      ],
      "source": [
        "print(len(response[0]['translations'][0]['sentLen']['srcSentLen']))"
      ]
    },
    {
      "cell_type": "code",
      "execution_count": 21,
      "metadata": {},
      "outputs": [
        {
          "name": "stdout",
          "output_type": "stream",
          "text": [
            "[56, 59, 32, 21, 25, 25, 21, 29, 34, 11, 26, 16, 32, 43, 16, 18, 14, 16, 19, 24, 29, 34, 35, 41, 63, 25, 40, 29, 25, 9, 37, 23, 25, 33, 23, 17, 26, 12, 25, 29, 38, 30, 11, 19, 23, 47, 37, 47, 44, 12, 18, 12, 50]\n"
          ]
        }
      ],
      "source": [
        "print(response[0]['translations'][0]['sentLen']['srcSentLen'])"
      ]
    },
    {
      "cell_type": "code",
      "execution_count": null,
      "metadata": {},
      "outputs": [],
      "source": []
    }
  ],
  "metadata": {
    "kernel_info": {
      "name": "rana-4c"
    },
    "kernelspec": {
      "display_name": "translate",
      "language": "python",
      "name": "python3"
    },
    "language_info": {
      "codemirror_mode": {
        "name": "ipython",
        "version": 3
      },
      "file_extension": ".py",
      "mimetype": "text/x-python",
      "name": "python",
      "nbconvert_exporter": "python",
      "pygments_lexer": "ipython3",
      "version": "3.12.10"
    },
    "microsoft": {
      "host": {
        "AzureML": {
          "notebookHasBeenCompleted": true
        }
      },
      "ms_spell_check": {
        "ms_spell_check_language": "en"
      }
    },
    "nteract": {
      "version": "nteract-front-end@1.0.0"
    }
  },
  "nbformat": 4,
  "nbformat_minor": 4
}
